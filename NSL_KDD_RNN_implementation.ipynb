{
 "cells": [
  {
   "cell_type": "code",
   "execution_count": 38,
   "id": "2b9f2093",
   "metadata": {},
   "outputs": [],
   "source": [
    "import pandas as pd\n",
    "import seaborn as sns\n",
    "import matplotlib.pyplot as plt\n",
    "import matplotlib as matplot\n",
    "import numpy as np\n",
    "\n",
    "import re\n",
    "import sklearn\n",
    "\n",
    "import warnings\n",
    "warnings.filterwarnings(\"ignore\")\n",
    "\n",
    "%matplotlib inline"
   ]
  },
  {
   "cell_type": "code",
   "execution_count": 39,
   "id": "2f7fd8a4",
   "metadata": {},
   "outputs": [],
   "source": [
    "df_train = pd.read_csv('E:\\\\Datasets\\\\nslTrain_data.csv')"
   ]
  },
  {
   "cell_type": "code",
   "execution_count": 40,
   "id": "6407c0bb",
   "metadata": {},
   "outputs": [
    {
     "data": {
      "text/html": [
       "<div>\n",
       "<style scoped>\n",
       "    .dataframe tbody tr th:only-of-type {\n",
       "        vertical-align: middle;\n",
       "    }\n",
       "\n",
       "    .dataframe tbody tr th {\n",
       "        vertical-align: top;\n",
       "    }\n",
       "\n",
       "    .dataframe thead th {\n",
       "        text-align: right;\n",
       "    }\n",
       "</style>\n",
       "<table border=\"1\" class=\"dataframe\">\n",
       "  <thead>\n",
       "    <tr style=\"text-align: right;\">\n",
       "      <th></th>\n",
       "      <th>Unnamed: 0</th>\n",
       "      <th>duration</th>\n",
       "      <th>protocol_type</th>\n",
       "      <th>service</th>\n",
       "      <th>flag</th>\n",
       "      <th>src_bytes</th>\n",
       "      <th>dst_bytes</th>\n",
       "      <th>land</th>\n",
       "      <th>wrong_fragment</th>\n",
       "      <th>urgent</th>\n",
       "      <th>...</th>\n",
       "      <th>dst_host_srv_count</th>\n",
       "      <th>dst_host_same_srv_rate</th>\n",
       "      <th>dst_host_diff_srv_rate</th>\n",
       "      <th>dst_host_same_src_port_rate</th>\n",
       "      <th>dst_host_srv_diff_host_rate</th>\n",
       "      <th>dst_host_serror_rate</th>\n",
       "      <th>dst_host_srv_serror_rate</th>\n",
       "      <th>dst_host_rerror_rate</th>\n",
       "      <th>dst_host_srv_rerror_rate</th>\n",
       "      <th>xAttack</th>\n",
       "    </tr>\n",
       "  </thead>\n",
       "  <tbody>\n",
       "    <tr>\n",
       "      <th>0</th>\n",
       "      <td>202</td>\n",
       "      <td>0</td>\n",
       "      <td>icmp</td>\n",
       "      <td>25</td>\n",
       "      <td>4</td>\n",
       "      <td>0</td>\n",
       "      <td>0</td>\n",
       "      <td>0</td>\n",
       "      <td>0</td>\n",
       "      <td>0</td>\n",
       "      <td>...</td>\n",
       "      <td>255</td>\n",
       "      <td>1.00</td>\n",
       "      <td>0.00</td>\n",
       "      <td>0.00</td>\n",
       "      <td>0.00</td>\n",
       "      <td>0.65</td>\n",
       "      <td>0.65</td>\n",
       "      <td>0.32</td>\n",
       "      <td>0.32</td>\n",
       "      <td>dos</td>\n",
       "    </tr>\n",
       "    <tr>\n",
       "      <th>1</th>\n",
       "      <td>768</td>\n",
       "      <td>0</td>\n",
       "      <td>icmp</td>\n",
       "      <td>25</td>\n",
       "      <td>2</td>\n",
       "      <td>312</td>\n",
       "      <td>1856</td>\n",
       "      <td>0</td>\n",
       "      <td>0</td>\n",
       "      <td>0</td>\n",
       "      <td>...</td>\n",
       "      <td>254</td>\n",
       "      <td>1.00</td>\n",
       "      <td>0.00</td>\n",
       "      <td>1.00</td>\n",
       "      <td>0.06</td>\n",
       "      <td>0.00</td>\n",
       "      <td>0.00</td>\n",
       "      <td>0.00</td>\n",
       "      <td>0.00</td>\n",
       "      <td>normal</td>\n",
       "    </tr>\n",
       "    <tr>\n",
       "      <th>2</th>\n",
       "      <td>3753</td>\n",
       "      <td>0</td>\n",
       "      <td>icmp</td>\n",
       "      <td>25</td>\n",
       "      <td>2</td>\n",
       "      <td>245</td>\n",
       "      <td>2058</td>\n",
       "      <td>0</td>\n",
       "      <td>0</td>\n",
       "      <td>0</td>\n",
       "      <td>...</td>\n",
       "      <td>255</td>\n",
       "      <td>1.00</td>\n",
       "      <td>0.00</td>\n",
       "      <td>0.01</td>\n",
       "      <td>0.05</td>\n",
       "      <td>0.01</td>\n",
       "      <td>0.00</td>\n",
       "      <td>0.00</td>\n",
       "      <td>0.00</td>\n",
       "      <td>normal</td>\n",
       "    </tr>\n",
       "    <tr>\n",
       "      <th>3</th>\n",
       "      <td>20087</td>\n",
       "      <td>0</td>\n",
       "      <td>icmp</td>\n",
       "      <td>25</td>\n",
       "      <td>2</td>\n",
       "      <td>298</td>\n",
       "      <td>1267</td>\n",
       "      <td>0</td>\n",
       "      <td>0</td>\n",
       "      <td>0</td>\n",
       "      <td>...</td>\n",
       "      <td>255</td>\n",
       "      <td>1.00</td>\n",
       "      <td>0.00</td>\n",
       "      <td>0.00</td>\n",
       "      <td>0.00</td>\n",
       "      <td>0.00</td>\n",
       "      <td>0.00</td>\n",
       "      <td>0.00</td>\n",
       "      <td>0.00</td>\n",
       "      <td>normal</td>\n",
       "    </tr>\n",
       "    <tr>\n",
       "      <th>4</th>\n",
       "      <td>16159</td>\n",
       "      <td>0</td>\n",
       "      <td>icmp</td>\n",
       "      <td>20</td>\n",
       "      <td>2</td>\n",
       "      <td>740</td>\n",
       "      <td>0</td>\n",
       "      <td>0</td>\n",
       "      <td>0</td>\n",
       "      <td>0</td>\n",
       "      <td>...</td>\n",
       "      <td>19</td>\n",
       "      <td>0.18</td>\n",
       "      <td>0.03</td>\n",
       "      <td>0.18</td>\n",
       "      <td>0.00</td>\n",
       "      <td>0.00</td>\n",
       "      <td>0.00</td>\n",
       "      <td>0.00</td>\n",
       "      <td>0.00</td>\n",
       "      <td>normal</td>\n",
       "    </tr>\n",
       "  </tbody>\n",
       "</table>\n",
       "<p>5 rows × 43 columns</p>\n",
       "</div>"
      ],
      "text/plain": [
       "   Unnamed: 0  duration protocol_type  service  flag  src_bytes  dst_bytes  \\\n",
       "0         202         0          icmp       25     4          0          0   \n",
       "1         768         0          icmp       25     2        312       1856   \n",
       "2        3753         0          icmp       25     2        245       2058   \n",
       "3       20087         0          icmp       25     2        298       1267   \n",
       "4       16159         0          icmp       20     2        740          0   \n",
       "\n",
       "   land  wrong_fragment  urgent  ...  dst_host_srv_count  \\\n",
       "0     0               0       0  ...                 255   \n",
       "1     0               0       0  ...                 254   \n",
       "2     0               0       0  ...                 255   \n",
       "3     0               0       0  ...                 255   \n",
       "4     0               0       0  ...                  19   \n",
       "\n",
       "   dst_host_same_srv_rate  dst_host_diff_srv_rate  \\\n",
       "0                    1.00                    0.00   \n",
       "1                    1.00                    0.00   \n",
       "2                    1.00                    0.00   \n",
       "3                    1.00                    0.00   \n",
       "4                    0.18                    0.03   \n",
       "\n",
       "   dst_host_same_src_port_rate  dst_host_srv_diff_host_rate  \\\n",
       "0                         0.00                         0.00   \n",
       "1                         1.00                         0.06   \n",
       "2                         0.01                         0.05   \n",
       "3                         0.00                         0.00   \n",
       "4                         0.18                         0.00   \n",
       "\n",
       "   dst_host_serror_rate  dst_host_srv_serror_rate  dst_host_rerror_rate  \\\n",
       "0                  0.65                      0.65                  0.32   \n",
       "1                  0.00                      0.00                  0.00   \n",
       "2                  0.01                      0.00                  0.00   \n",
       "3                  0.00                      0.00                  0.00   \n",
       "4                  0.00                      0.00                  0.00   \n",
       "\n",
       "   dst_host_srv_rerror_rate  xAttack  \n",
       "0                      0.32      dos  \n",
       "1                      0.00   normal  \n",
       "2                      0.00   normal  \n",
       "3                      0.00   normal  \n",
       "4                      0.00   normal  \n",
       "\n",
       "[5 rows x 43 columns]"
      ]
     },
     "execution_count": 40,
     "metadata": {},
     "output_type": "execute_result"
    }
   ],
   "source": [
    "df_test = pd.read_csv('E:\\\\Datasets\\\\nslTest_data.csv')\n",
    "df_test.head()"
   ]
  },
  {
   "cell_type": "code",
   "execution_count": 41,
   "id": "9d461673",
   "metadata": {},
   "outputs": [],
   "source": [
    "df_test = df_test.drop(df_test.columns[[0]],axis = 1)"
   ]
  },
  {
   "cell_type": "code",
   "execution_count": 42,
   "id": "6ddda214",
   "metadata": {},
   "outputs": [],
   "source": [
    "df = pd.concat([df_train, df_test])"
   ]
  },
  {
   "cell_type": "code",
   "execution_count": 43,
   "id": "0198b862",
   "metadata": {},
   "outputs": [
    {
     "data": {
      "text/plain": [
       "(135973, 42)"
      ]
     },
     "execution_count": 43,
     "metadata": {},
     "output_type": "execute_result"
    }
   ],
   "source": [
    "df.shape"
   ]
  },
  {
   "cell_type": "code",
   "execution_count": 44,
   "id": "f09cb5a5",
   "metadata": {},
   "outputs": [
    {
     "data": {
      "text/plain": [
       "(array([0, 1, 2, 3, 4]),\n",
       " [Text(0, 0, 'normal'),\n",
       "  Text(1, 0, 'dos'),\n",
       "  Text(2, 0, 'r2l'),\n",
       "  Text(3, 0, 'probe'),\n",
       "  Text(4, 0, 'u2r')])"
      ]
     },
     "execution_count": 44,
     "metadata": {},
     "output_type": "execute_result"
    },
    {
     "data": {
      "image/png": "[encoded data removed]",
      "text/plain": [
       "<Figure size 432x288 with 1 Axes>"
      ]
     },
     "metadata": {
      "needs_background": "light"
     },
     "output_type": "display_data"
    }
   ],
   "source": [
    "sns.countplot(x = \"xAttack\", data = df).set(title='NSL-KDD')\n",
    "df[\"xAttack\"].value_counts()\n",
    "plt.xticks(rotation=90)"
   ]
  },
  {
   "cell_type": "code",
   "execution_count": 45,
   "id": "561ba37c",
   "metadata": {},
   "outputs": [
    {
     "data": {
      "text/plain": [
       "302"
      ]
     },
     "execution_count": 45,
     "metadata": {},
     "output_type": "execute_result"
    }
   ],
   "source": [
    "df.duplicated().sum()"
   ]
  },
  {
   "cell_type": "code",
   "execution_count": 46,
   "id": "ec041139",
   "metadata": {},
   "outputs": [],
   "source": [
    "df =  df.drop_duplicates(keep=\"first\")"
   ]
  },
  {
   "cell_type": "code",
   "execution_count": 47,
   "id": "1522a6a1",
   "metadata": {},
   "outputs": [
    {
     "data": {
      "text/plain": [
       "0"
      ]
     },
     "execution_count": 47,
     "metadata": {},
     "output_type": "execute_result"
    }
   ],
   "source": [
    "df.duplicated().sum()"
   ]
  },
  {
   "cell_type": "code",
   "execution_count": 48,
   "id": "bf7031c8",
   "metadata": {},
   "outputs": [
    {
     "data": {
      "text/plain": [
       "duration                       0\n",
       "dst_host_count                 0\n",
       "srv_count                      0\n",
       "serror_rate                    0\n",
       "srv_serror_rate                0\n",
       "rerror_rate                    0\n",
       "srv_rerror_rate                0\n",
       "same_srv_rate                  0\n",
       "diff_srv_rate                  0\n",
       "srv_diff_host_rate             0\n",
       "dst_host_srv_count             0\n",
       "protocol_type                  0\n",
       "dst_host_same_srv_rate         0\n",
       "dst_host_diff_srv_rate         0\n",
       "dst_host_same_src_port_rate    0\n",
       "dst_host_srv_diff_host_rate    0\n",
       "dst_host_serror_rate           0\n",
       "dst_host_srv_serror_rate       0\n",
       "dst_host_rerror_rate           0\n",
       "dst_host_srv_rerror_rate       0\n",
       "count                          0\n",
       "is_guest_login                 0\n",
       "is_host_login                  0\n",
       "num_outbound_cmds              0\n",
       "service                        0\n",
       "flag                           0\n",
       "src_bytes                      0\n",
       "dst_bytes                      0\n",
       "land                           0\n",
       "wrong_fragment                 0\n",
       "urgent                         0\n",
       "hot                            0\n",
       "num_failed_logins              0\n",
       "logged_in                      0\n",
       "num_compromised                0\n",
       "root_shell                     0\n",
       "su_attempted                   0\n",
       "num_root                       0\n",
       "num_file_creations             0\n",
       "num_shells                     0\n",
       "num_access_files               0\n",
       "xAttack                        0\n",
       "dtype: int64"
      ]
     },
     "execution_count": 48,
     "metadata": {},
     "output_type": "execute_result"
    }
   ],
   "source": [
    "df.isnull().sum().sort_values(ascending = False)"
   ]
  },
  {
   "cell_type": "code",
   "execution_count": 49,
   "id": "4b96784d",
   "metadata": {},
   "outputs": [
    {
     "data": {
      "text/plain": [
       "duration                       0.0\n",
       "protocol_type                  0.0\n",
       "service                        0.0\n",
       "flag                           0.0\n",
       "src_bytes                      0.0\n",
       "dst_bytes                      0.0\n",
       "land                           0.0\n",
       "wrong_fragment                 0.0\n",
       "urgent                         0.0\n",
       "hot                            0.0\n",
       "num_failed_logins              0.0\n",
       "logged_in                      0.0\n",
       "num_compromised                0.0\n",
       "root_shell                     0.0\n",
       "su_attempted                   0.0\n",
       "num_root                       0.0\n",
       "num_file_creations             0.0\n",
       "num_shells                     0.0\n",
       "num_access_files               0.0\n",
       "num_outbound_cmds              0.0\n",
       "is_host_login                  0.0\n",
       "is_guest_login                 0.0\n",
       "count                          0.0\n",
       "srv_count                      0.0\n",
       "serror_rate                    0.0\n",
       "srv_serror_rate                0.0\n",
       "rerror_rate                    0.0\n",
       "srv_rerror_rate                0.0\n",
       "same_srv_rate                  0.0\n",
       "diff_srv_rate                  0.0\n",
       "srv_diff_host_rate             0.0\n",
       "dst_host_count                 0.0\n",
       "dst_host_srv_count             0.0\n",
       "dst_host_same_srv_rate         0.0\n",
       "dst_host_diff_srv_rate         0.0\n",
       "dst_host_same_src_port_rate    0.0\n",
       "dst_host_srv_diff_host_rate    0.0\n",
       "dst_host_serror_rate           0.0\n",
       "dst_host_srv_serror_rate       0.0\n",
       "dst_host_rerror_rate           0.0\n",
       "dst_host_srv_rerror_rate       0.0\n",
       "xAttack                        0.0\n",
       "dtype: float64"
      ]
     },
     "execution_count": 49,
     "metadata": {},
     "output_type": "execute_result"
    }
   ],
   "source": [
    "df.isna().mean()*100"
   ]
  },
  {
   "cell_type": "code",
   "execution_count": 50,
   "id": "f96d2659",
   "metadata": {},
   "outputs": [],
   "source": [
    "df.dropna(axis=0,inplace=True,how=\"any\")"
   ]
  },
  {
   "cell_type": "code",
   "execution_count": 51,
   "id": "ae70d9b0",
   "metadata": {},
   "outputs": [
    {
     "data": {
      "text/plain": [
       "normal    71641\n",
       "dos       49066\n",
       "probe     12631\n",
       "Name: xAttack, dtype: int64"
      ]
     },
     "execution_count": 51,
     "metadata": {},
     "output_type": "execute_result"
    }
   ],
   "source": [
    "df=df.groupby('xAttack').filter(lambda x:len(x)>10000)\n",
    "df['xAttack'].value_counts()"
   ]
  },
  {
   "cell_type": "code",
   "execution_count": 52,
   "id": "347d7d14",
   "metadata": {},
   "outputs": [],
   "source": [
    "df = df[~df.isin([np.nan, np.inf, -np.inf]).any(1)]"
   ]
  },
  {
   "cell_type": "code",
   "execution_count": 53,
   "id": "b06b86cd",
   "metadata": {},
   "outputs": [],
   "source": [
    "df = df.replace(0, np.nan)"
   ]
  },
  {
   "cell_type": "code",
   "execution_count": 54,
   "id": "48e6a23d",
   "metadata": {},
   "outputs": [
    {
     "data": {
      "text/html": [
       "<div>\n",
       "<style scoped>\n",
       "    .dataframe tbody tr th:only-of-type {\n",
       "        vertical-align: middle;\n",
       "    }\n",
       "\n",
       "    .dataframe tbody tr th {\n",
       "        vertical-align: top;\n",
       "    }\n",
       "\n",
       "    .dataframe thead th {\n",
       "        text-align: right;\n",
       "    }\n",
       "</style>\n",
       "<table border=\"1\" class=\"dataframe\">\n",
       "  <thead>\n",
       "    <tr style=\"text-align: right;\">\n",
       "      <th></th>\n",
       "      <th>duration</th>\n",
       "      <th>protocol_type</th>\n",
       "      <th>service</th>\n",
       "      <th>flag</th>\n",
       "      <th>src_bytes</th>\n",
       "      <th>dst_bytes</th>\n",
       "      <th>land</th>\n",
       "      <th>wrong_fragment</th>\n",
       "      <th>urgent</th>\n",
       "      <th>hot</th>\n",
       "      <th>...</th>\n",
       "      <th>dst_host_srv_count</th>\n",
       "      <th>dst_host_same_srv_rate</th>\n",
       "      <th>dst_host_diff_srv_rate</th>\n",
       "      <th>dst_host_same_src_port_rate</th>\n",
       "      <th>dst_host_srv_diff_host_rate</th>\n",
       "      <th>dst_host_serror_rate</th>\n",
       "      <th>dst_host_srv_serror_rate</th>\n",
       "      <th>dst_host_rerror_rate</th>\n",
       "      <th>dst_host_srv_rerror_rate</th>\n",
       "      <th>xAttack</th>\n",
       "    </tr>\n",
       "  </thead>\n",
       "  <tbody>\n",
       "    <tr>\n",
       "      <th>0</th>\n",
       "      <td>0.0</td>\n",
       "      <td>icmp</td>\n",
       "      <td>20</td>\n",
       "      <td>2</td>\n",
       "      <td>491.0</td>\n",
       "      <td>0.0</td>\n",
       "      <td>0.0</td>\n",
       "      <td>0.0</td>\n",
       "      <td>0.0</td>\n",
       "      <td>0.0</td>\n",
       "      <td>...</td>\n",
       "      <td>25.0</td>\n",
       "      <td>0.17</td>\n",
       "      <td>0.03</td>\n",
       "      <td>0.17</td>\n",
       "      <td>0.00</td>\n",
       "      <td>0.00</td>\n",
       "      <td>0.00</td>\n",
       "      <td>0.05</td>\n",
       "      <td>0.00</td>\n",
       "      <td>normal</td>\n",
       "    </tr>\n",
       "    <tr>\n",
       "      <th>1</th>\n",
       "      <td>0.0</td>\n",
       "      <td>udp</td>\n",
       "      <td>45</td>\n",
       "      <td>2</td>\n",
       "      <td>146.0</td>\n",
       "      <td>0.0</td>\n",
       "      <td>0.0</td>\n",
       "      <td>0.0</td>\n",
       "      <td>0.0</td>\n",
       "      <td>0.0</td>\n",
       "      <td>...</td>\n",
       "      <td>1.0</td>\n",
       "      <td>0.00</td>\n",
       "      <td>0.60</td>\n",
       "      <td>0.88</td>\n",
       "      <td>0.00</td>\n",
       "      <td>0.00</td>\n",
       "      <td>0.00</td>\n",
       "      <td>0.00</td>\n",
       "      <td>0.00</td>\n",
       "      <td>normal</td>\n",
       "    </tr>\n",
       "    <tr>\n",
       "      <th>2</th>\n",
       "      <td>0.0</td>\n",
       "      <td>icmp</td>\n",
       "      <td>50</td>\n",
       "      <td>4</td>\n",
       "      <td>0.0</td>\n",
       "      <td>0.0</td>\n",
       "      <td>0.0</td>\n",
       "      <td>0.0</td>\n",
       "      <td>0.0</td>\n",
       "      <td>0.0</td>\n",
       "      <td>...</td>\n",
       "      <td>26.0</td>\n",
       "      <td>0.10</td>\n",
       "      <td>0.05</td>\n",
       "      <td>0.00</td>\n",
       "      <td>0.00</td>\n",
       "      <td>1.00</td>\n",
       "      <td>1.00</td>\n",
       "      <td>0.00</td>\n",
       "      <td>0.00</td>\n",
       "      <td>dos</td>\n",
       "    </tr>\n",
       "    <tr>\n",
       "      <th>3</th>\n",
       "      <td>0.0</td>\n",
       "      <td>icmp</td>\n",
       "      <td>25</td>\n",
       "      <td>2</td>\n",
       "      <td>232.0</td>\n",
       "      <td>8153.0</td>\n",
       "      <td>0.0</td>\n",
       "      <td>0.0</td>\n",
       "      <td>0.0</td>\n",
       "      <td>0.0</td>\n",
       "      <td>...</td>\n",
       "      <td>255.0</td>\n",
       "      <td>1.00</td>\n",
       "      <td>0.00</td>\n",
       "      <td>0.03</td>\n",
       "      <td>0.04</td>\n",
       "      <td>0.03</td>\n",
       "      <td>0.01</td>\n",
       "      <td>0.00</td>\n",
       "      <td>0.01</td>\n",
       "      <td>normal</td>\n",
       "    </tr>\n",
       "    <tr>\n",
       "      <th>4</th>\n",
       "      <td>0.0</td>\n",
       "      <td>icmp</td>\n",
       "      <td>25</td>\n",
       "      <td>2</td>\n",
       "      <td>199.0</td>\n",
       "      <td>420.0</td>\n",
       "      <td>0.0</td>\n",
       "      <td>0.0</td>\n",
       "      <td>0.0</td>\n",
       "      <td>0.0</td>\n",
       "      <td>...</td>\n",
       "      <td>255.0</td>\n",
       "      <td>1.00</td>\n",
       "      <td>0.00</td>\n",
       "      <td>0.00</td>\n",
       "      <td>0.00</td>\n",
       "      <td>0.00</td>\n",
       "      <td>0.00</td>\n",
       "      <td>0.00</td>\n",
       "      <td>0.00</td>\n",
       "      <td>normal</td>\n",
       "    </tr>\n",
       "  </tbody>\n",
       "</table>\n",
       "<p>5 rows × 41 columns</p>\n",
       "</div>"
      ],
      "text/plain": [
       "   duration protocol_type  service  flag  src_bytes  dst_bytes  land  \\\n",
       "0       0.0          icmp       20     2      491.0        0.0   0.0   \n",
       "1       0.0           udp       45     2      146.0        0.0   0.0   \n",
       "2       0.0          icmp       50     4        0.0        0.0   0.0   \n",
       "3       0.0          icmp       25     2      232.0     8153.0   0.0   \n",
       "4       0.0          icmp       25     2      199.0      420.0   0.0   \n",
       "\n",
       "   wrong_fragment  urgent  hot  ...  dst_host_srv_count  \\\n",
       "0             0.0     0.0  0.0  ...                25.0   \n",
       "1             0.0     0.0  0.0  ...                 1.0   \n",
       "2             0.0     0.0  0.0  ...                26.0   \n",
       "3             0.0     0.0  0.0  ...               255.0   \n",
       "4             0.0     0.0  0.0  ...               255.0   \n",
       "\n",
       "   dst_host_same_srv_rate  dst_host_diff_srv_rate  \\\n",
       "0                    0.17                    0.03   \n",
       "1                    0.00                    0.60   \n",
       "2                    0.10                    0.05   \n",
       "3                    1.00                    0.00   \n",
       "4                    1.00                    0.00   \n",
       "\n",
       "   dst_host_same_src_port_rate  dst_host_srv_diff_host_rate  \\\n",
       "0                         0.17                         0.00   \n",
       "1                         0.88                         0.00   \n",
       "2                         0.00                         0.00   \n",
       "3                         0.03                         0.04   \n",
       "4                         0.00                         0.00   \n",
       "\n",
       "   dst_host_serror_rate  dst_host_srv_serror_rate  dst_host_rerror_rate  \\\n",
       "0                  0.00                      0.00                  0.05   \n",
       "1                  0.00                      0.00                  0.00   \n",
       "2                  1.00                      1.00                  0.00   \n",
       "3                  0.03                      0.01                  0.00   \n",
       "4                  0.00                      0.00                  0.00   \n",
       "\n",
       "   dst_host_srv_rerror_rate  xAttack  \n",
       "0                      0.00   normal  \n",
       "1                      0.00   normal  \n",
       "2                      0.00      dos  \n",
       "3                      0.01   normal  \n",
       "4                      0.00   normal  \n",
       "\n",
       "[5 rows x 41 columns]"
      ]
     },
     "execution_count": 54,
     "metadata": {},
     "output_type": "execute_result"
    }
   ],
   "source": [
    "df.dropna(how = \"all\", axis =1,inplace = True )\n",
    "df.fillna(0, inplace = True)\n",
    "df.head()"
   ]
  },
  {
   "cell_type": "code",
   "execution_count": 55,
   "id": "7eca7632",
   "metadata": {},
   "outputs": [],
   "source": [
    "#selected_features=['src_bytes', 'dst_bytes','same_srv_rate','dst_host_serror_rate','diff_srv_rate', 'count',\n",
    "#                    'srv_count','serror_rate','dst_host_same_srv_rate','same_srv_rate', 'dst_host_same_srv_rate',\n",
    "#                    'dst_host_diff_srv_rate','dst_host_same_src_port_rate','dst_host_diff_srv_rate', 'dst_host_srv_serror_rate']"
   ]
  },
  {
   "cell_type": "code",
   "execution_count": 56,
   "id": "99d263db",
   "metadata": {},
   "outputs": [],
   "source": [
    "df = df.drop(['duration','protocol_type','service','flag','land','wrong_fragment','urgent','hot','num_failed_logins'],axis=1)\n",
    "df = df.drop(['logged_in','num_compromised','root_shell','su_attempted','num_root','num_file_creations','num_shells'],axis=1)\n",
    "df= df.drop(['num_access_files','is_host_login','is_guest_login','rerror_rate','srv_rerror_rate','dst_host_count'],axis=1)\n",
    "df = df.drop(['dst_host_srv_count','dst_host_serror_rate','dst_host_serror_rate','dst_host_rerror_rate','dst_host_srv_rerror_rate'],axis=1)"
   ]
  },
  {
   "cell_type": "code",
   "execution_count": 57,
   "id": "a465b0bf",
   "metadata": {},
   "outputs": [],
   "source": [
    "integer = []\n",
    "f = []\n",
    "for i in df.columns[:-1]:\n",
    "    if df[i].dtype == \"int64\": integer.append(i)\n",
    "    else : f.append(i)\n",
    "\n",
    "df[integer] = df[integer].astype(\"int32\")\n",
    "df[f] = df[f].astype(\"float32\")"
   ]
  },
  {
   "cell_type": "code",
   "execution_count": 58,
   "id": "47c57245",
   "metadata": {},
   "outputs": [
    {
     "name": "stdout",
     "output_type": "stream",
     "text": [
      "<class 'pandas.core.frame.DataFrame'>\n",
      "Int64Index: 133338 entries, 0 to 9998\n",
      "Data columns (total 15 columns):\n",
      " #   Column                       Non-Null Count   Dtype  \n",
      "---  ------                       --------------   -----  \n",
      " 0   src_bytes                    133338 non-null  float32\n",
      " 1   dst_bytes                    133338 non-null  float32\n",
      " 2   count                        133338 non-null  float32\n",
      " 3   srv_count                    133338 non-null  float32\n",
      " 4   serror_rate                  133338 non-null  float32\n",
      " 5   srv_serror_rate              133338 non-null  float32\n",
      " 6   same_srv_rate                133338 non-null  float32\n",
      " 7   diff_srv_rate                133338 non-null  float32\n",
      " 8   srv_diff_host_rate           133338 non-null  float32\n",
      " 9   dst_host_same_srv_rate       133338 non-null  float32\n",
      " 10  dst_host_diff_srv_rate       133338 non-null  float32\n",
      " 11  dst_host_same_src_port_rate  133338 non-null  float32\n",
      " 12  dst_host_srv_diff_host_rate  133338 non-null  float32\n",
      " 13  dst_host_srv_serror_rate     133338 non-null  float32\n",
      " 14  xAttack                      133338 non-null  object \n",
      "dtypes: float32(14), object(1)\n",
      "memory usage: 9.2+ MB\n"
     ]
    }
   ],
   "source": [
    "df.info()"
   ]
  },
  {
   "cell_type": "code",
   "execution_count": 59,
   "id": "5c766a59",
   "metadata": {},
   "outputs": [],
   "source": [
    "X = df.drop(['xAttack'], axis=1)\n",
    "y = df['xAttack']"
   ]
  },
  {
   "cell_type": "code",
   "execution_count": 60,
   "id": "6834cfe8",
   "metadata": {},
   "outputs": [
    {
     "data": {
      "text/plain": [
       "(133338, 14)"
      ]
     },
     "execution_count": 60,
     "metadata": {},
     "output_type": "execute_result"
    }
   ],
   "source": [
    "X.shape"
   ]
  },
  {
   "cell_type": "code",
   "execution_count": 61,
   "id": "97046bb8",
   "metadata": {},
   "outputs": [
    {
     "data": {
      "text/plain": [
       "normal    71641\n",
       "dos       49066\n",
       "probe     12631\n",
       "Name: xAttack, dtype: int64"
      ]
     },
     "execution_count": 61,
     "metadata": {},
     "output_type": "execute_result"
    }
   ],
   "source": [
    "y.value_counts()"
   ]
  },
  {
   "cell_type": "code",
   "execution_count": 63,
   "id": "dfc172e7",
   "metadata": {},
   "outputs": [],
   "source": [
    "def targetify(x):\n",
    "    if x == 'normal':\n",
    "        return 0\n",
    "    else:\n",
    "        return 1"
   ]
  },
  {
   "cell_type": "code",
   "execution_count": 64,
   "id": "0141322e",
   "metadata": {},
   "outputs": [],
   "source": [
    "labels = df['xAttack']    #For multiclass classification\n",
    "df['Target']=df['xAttack'].apply(targetify)\n",
    "y = df['Target']"
   ]
  },
  {
   "cell_type": "code",
   "execution_count": 65,
   "id": "14687283",
   "metadata": {},
   "outputs": [
    {
     "data": {
      "text/plain": [
       "0    71641\n",
       "1    61697\n",
       "Name: Target, dtype: int64"
      ]
     },
     "execution_count": 65,
     "metadata": {},
     "output_type": "execute_result"
    }
   ],
   "source": [
    "y.value_counts()"
   ]
  },
  {
   "cell_type": "code",
   "execution_count": 66,
   "id": "8417f529",
   "metadata": {},
   "outputs": [],
   "source": [
    "pd.set_option('display.max_columns', None)\n",
    "pd.set_option('display.max_rows', None)"
   ]
  },
  {
   "cell_type": "code",
   "execution_count": 67,
   "id": "44db5953",
   "metadata": {},
   "outputs": [],
   "source": [
    "from sklearn.model_selection import train_test_split\n",
    "x_train, x_test, y_train, y_test = train_test_split(X, y, train_size=0.70, random_state=2)"
   ]
  },
  {
   "cell_type": "code",
   "execution_count": 68,
   "id": "f859e86f",
   "metadata": {},
   "outputs": [],
   "source": [
    "from sklearn.metrics import classification_report,confusion_matrix,roc_auc_score,average_precision_score\n",
    "from sklearn.metrics import accuracy_score"
   ]
  },
  {
   "cell_type": "code",
   "execution_count": 69,
   "id": "9419ed21",
   "metadata": {},
   "outputs": [
    {
     "data": {
      "text/plain": [
       "0.9965251737413129"
      ]
     },
     "execution_count": 69,
     "metadata": {},
     "output_type": "execute_result"
    }
   ],
   "source": [
    "from sklearn.tree import DecisionTreeClassifier\n",
    "dc = DecisionTreeClassifier()\n",
    "dc.fit(x_train, y_train);\n",
    "preds_dc = dc.predict(x_test)\n",
    "score_dc = accuracy_score(preds_dc,y_test)\n",
    "score_dc"
   ]
  },
  {
   "cell_type": "code",
   "execution_count": 70,
   "id": "0eaf2582",
   "metadata": {},
   "outputs": [
    {
     "name": "stdout",
     "output_type": "stream",
     "text": [
      "              precision    recall  f1-score   support\n",
      "\n",
      "           0       1.00      1.00      1.00     21627\n",
      "           1       1.00      1.00      1.00     18375\n",
      "\n",
      "    accuracy                           1.00     40002\n",
      "   macro avg       1.00      1.00      1.00     40002\n",
      "weighted avg       1.00      1.00      1.00     40002\n",
      "\n"
     ]
    }
   ],
   "source": [
    "print(classification_report(y_test, preds_dc))"
   ]
  },
  {
   "cell_type": "code",
   "execution_count": 71,
   "id": "20b9162a",
   "metadata": {},
   "outputs": [
    {
     "data": {
      "image/png": "[encoded data removed]",
      "text/plain": [
       "<Figure size 432x288 with 2 Axes>"
      ]
     },
     "metadata": {
      "needs_background": "light"
     },
     "output_type": "display_data"
    }
   ],
   "source": [
    "labels = [\"Benign\", \"Malicious\"]\n",
    "\n",
    "# Compute the confusion matrix\n",
    "cm = confusion_matrix(y_test, preds_dc)\n",
    "\n",
    "# Combine the classes into \"Malicious\"\n",
    "cm[1:, 1] = cm[1:, 1:].sum(axis=1)\n",
    "cm = cm[:2, :2]\n",
    "\n",
    "# Create a DataFrame from the confusion matrix and replace the labels\n",
    "df_cm = pd.DataFrame(cm, index=labels, columns=labels)\n",
    "\n",
    "# Plot the heatmap with annotated values\n",
    "sns.heatmap(df_cm, annot=True, cmap=\"YlGnBu\", fmt=\"g\")\n",
    "plt.tight_layout()\n",
    "\n",
    "# Set the title, x and y labels\n",
    "plt.title(\"Confusion Matrix Decision Tree\")\n",
    "plt.ylabel(\"Actual Labels\")\n",
    "plt.xlabel(\"Predicted Labels\")\n",
    "\n",
    "# Show the plot\n",
    "plt.show()"
   ]
  },
  {
   "cell_type": "code",
   "execution_count": 72,
   "id": "c75b399f",
   "metadata": {},
   "outputs": [
    {
     "data": {
      "text/plain": [
       "0.9965251737413129"
      ]
     },
     "execution_count": 72,
     "metadata": {},
     "output_type": "execute_result"
    }
   ],
   "source": [
    "result_DT=accuracy_score(preds_dc,y_test)\n",
    "result_DT"
   ]
  },
  {
   "cell_type": "code",
   "execution_count": 73,
   "id": "4364a902",
   "metadata": {},
   "outputs": [],
   "source": [
    "import time"
   ]
  },
  {
   "cell_type": "code",
   "execution_count": 74,
   "id": "43f72c09",
   "metadata": {},
   "outputs": [],
   "source": [
    "start_time = time.time()\n",
    "dc.fit(x_train, y_train.values.ravel())\n",
    "end_time = time.time()"
   ]
  },
  {
   "cell_type": "code",
   "execution_count": 75,
   "id": "86de2fcb",
   "metadata": {},
   "outputs": [
    {
     "name": "stdout",
     "output_type": "stream",
     "text": [
      "Training time:  0.3225729465484619\n"
     ]
    }
   ],
   "source": [
    "print(\"Training time: \",end_time-start_time)"
   ]
  },
  {
   "cell_type": "code",
   "execution_count": 76,
   "id": "923664a5",
   "metadata": {},
   "outputs": [
    {
     "data": {
      "text/html": [
       "<style>#sk-container-id-1 {color: black;background-color: white;}#sk-container-id-1 pre{padding: 0;}#sk-container-id-1 div.sk-toggleable {background-color: white;}#sk-container-id-1 label.sk-toggleable__label {cursor: pointer;display: block;width: 100%;margin-bottom: 0;padding: 0.3em;box-sizing: border-box;text-align: center;}#sk-container-id-1 label.sk-toggleable__label-arrow:before {content: \"▸\";float: left;margin-right: 0.25em;color: #696969;}#sk-container-id-1 label.sk-toggleable__label-arrow:hover:before {color: black;}#sk-container-id-1 div.sk-estimator:hover label.sk-toggleable__label-arrow:before {color: black;}#sk-container-id-1 div.sk-toggleable__content {max-height: 0;max-width: 0;overflow: hidden;text-align: left;background-color: #f0f8ff;}#sk-container-id-1 div.sk-toggleable__content pre {margin: 0.2em;color: black;border-radius: 0.25em;background-color: #f0f8ff;}#sk-container-id-1 input.sk-toggleable__control:checked~div.sk-toggleable__content {max-height: 200px;max-width: 100%;overflow: auto;}#sk-container-id-1 input.sk-toggleable__control:checked~label.sk-toggleable__label-arrow:before {content: \"▾\";}#sk-container-id-1 div.sk-estimator input.sk-toggleable__control:checked~label.sk-toggleable__label {background-color: #d4ebff;}#sk-container-id-1 div.sk-label input.sk-toggleable__control:checked~label.sk-toggleable__label {background-color: #d4ebff;}#sk-container-id-1 input.sk-hidden--visually {border: 0;clip: rect(1px 1px 1px 1px);clip: rect(1px, 1px, 1px, 1px);height: 1px;margin: -1px;overflow: hidden;padding: 0;position: absolute;width: 1px;}#sk-container-id-1 div.sk-estimator {font-family: monospace;background-color: #f0f8ff;border: 1px dotted black;border-radius: 0.25em;box-sizing: border-box;margin-bottom: 0.5em;}#sk-container-id-1 div.sk-estimator:hover {background-color: #d4ebff;}#sk-container-id-1 div.sk-parallel-item::after {content: \"\";width: 100%;border-bottom: 1px solid gray;flex-grow: 1;}#sk-container-id-1 div.sk-label:hover label.sk-toggleable__label {background-color: #d4ebff;}#sk-container-id-1 div.sk-serial::before {content: \"\";position: absolute;border-left: 1px solid gray;box-sizing: border-box;top: 0;bottom: 0;left: 50%;z-index: 0;}#sk-container-id-1 div.sk-serial {display: flex;flex-direction: column;align-items: center;background-color: white;padding-right: 0.2em;padding-left: 0.2em;position: relative;}#sk-container-id-1 div.sk-item {position: relative;z-index: 1;}#sk-container-id-1 div.sk-parallel {display: flex;align-items: stretch;justify-content: center;background-color: white;position: relative;}#sk-container-id-1 div.sk-item::before, #sk-container-id-1 div.sk-parallel-item::before {content: \"\";position: absolute;border-left: 1px solid gray;box-sizing: border-box;top: 0;bottom: 0;left: 50%;z-index: -1;}#sk-container-id-1 div.sk-parallel-item {display: flex;flex-direction: column;z-index: 1;position: relative;background-color: white;}#sk-container-id-1 div.sk-parallel-item:first-child::after {align-self: flex-end;width: 50%;}#sk-container-id-1 div.sk-parallel-item:last-child::after {align-self: flex-start;width: 50%;}#sk-container-id-1 div.sk-parallel-item:only-child::after {width: 0;}#sk-container-id-1 div.sk-dashed-wrapped {border: 1px dashed gray;margin: 0 0.4em 0.5em 0.4em;box-sizing: border-box;padding-bottom: 0.4em;background-color: white;}#sk-container-id-1 div.sk-label label {font-family: monospace;font-weight: bold;display: inline-block;line-height: 1.2em;}#sk-container-id-1 div.sk-label-container {text-align: center;}#sk-container-id-1 div.sk-container {/* jupyter's `normalize.less` sets `[hidden] { display: none; }` but bootstrap.min.css set `[hidden] { display: none !important; }` so we also need the `!important` here to be able to override the default hidden behavior on the sphinx rendered scikit-learn.org. See: https://github.com/scikit-learn/scikit-learn/issues/21755 */display: inline-block !important;position: relative;}#sk-container-id-1 div.sk-text-repr-fallback {display: none;}</style><div id=\"sk-container-id-1\" class=\"sk-top-container\"><div class=\"sk-text-repr-fallback\"><pre>RandomForestClassifier(n_estimators=15, random_state=42)</pre><b>In a Jupyter environment, please rerun this cell to show the HTML representation or trust the notebook. <br />On GitHub, the HTML representation is unable to render, please try loading this page with nbviewer.org.</b></div><div class=\"sk-container\" hidden><div class=\"sk-item\"><div class=\"sk-estimator sk-toggleable\"><input class=\"sk-toggleable__control sk-hidden--visually\" id=\"sk-estimator-id-1\" type=\"checkbox\" checked><label for=\"sk-estimator-id-1\" class=\"sk-toggleable__label sk-toggleable__label-arrow\">RandomForestClassifier</label><div class=\"sk-toggleable__content\"><pre>RandomForestClassifier(n_estimators=15, random_state=42)</pre></div></div></div></div></div>"
      ],
      "text/plain": [
       "RandomForestClassifier(n_estimators=15, random_state=42)"
      ]
     },
     "execution_count": 76,
     "metadata": {},
     "output_type": "execute_result"
    }
   ],
   "source": [
    "from sklearn.ensemble import RandomForestClassifier\n",
    "rf = RandomForestClassifier(n_estimators =15, random_state = 42)\n",
    "rf.fit(x_train, y_train)"
   ]
  },
  {
   "cell_type": "code",
   "execution_count": 77,
   "id": "f8cbe29d",
   "metadata": {},
   "outputs": [],
   "source": [
    "y_Rpred=rf.predict(x_test)"
   ]
  },
  {
   "cell_type": "code",
   "execution_count": 78,
   "id": "87a33e8d",
   "metadata": {},
   "outputs": [
    {
     "data": {
      "text/plain": [
       "0.9969251537423128"
      ]
     },
     "execution_count": 78,
     "metadata": {},
     "output_type": "execute_result"
    }
   ],
   "source": [
    "result_Rf=accuracy_score(y_Rpred,y_test)\n",
    "result_Rf"
   ]
  },
  {
   "cell_type": "code",
   "execution_count": 79,
   "id": "da28d2b2",
   "metadata": {},
   "outputs": [
    {
     "name": "stdout",
     "output_type": "stream",
     "text": [
      "              precision    recall  f1-score   support\n",
      "\n",
      "           0       1.00      1.00      1.00     21627\n",
      "           1       1.00      1.00      1.00     18375\n",
      "\n",
      "    accuracy                           1.00     40002\n",
      "   macro avg       1.00      1.00      1.00     40002\n",
      "weighted avg       1.00      1.00      1.00     40002\n",
      "\n"
     ]
    }
   ],
   "source": [
    "print(classification_report(y_test, y_Rpred))"
   ]
  },
  {
   "cell_type": "code",
   "execution_count": 80,
   "id": "b1846bc0",
   "metadata": {},
   "outputs": [
    {
     "data": {
      "image/png": "[encoded data removed]",
      "text/plain": [
       "<Figure size 432x288 with 2 Axes>"
      ]
     },
     "metadata": {
      "needs_background": "light"
     },
     "output_type": "display_data"
    }
   ],
   "source": [
    "# Compute the confusion matrix\n",
    "cm = confusion_matrix(y_test, y_Rpred)\n",
    "labels = [\"Benign\", \"Malicious\"]\n",
    "\n",
    "# Combine the classes into \"Malicious\"\n",
    "cm[1:, 1] = cm[1:, 1:].sum(axis=1)\n",
    "cm = cm[:2, :2]\n",
    "\n",
    "# Create a DataFrame from the confusion matrix and replace the labels\n",
    "df_cm = pd.DataFrame(cm, index=labels, columns=labels)\n",
    "\n",
    "# Plot the heatmap with annotated values\n",
    "sns.heatmap(df_cm, annot=True, cmap=\"YlGnBu\", fmt=\"g\")\n",
    "plt.tight_layout()\n",
    "\n",
    "# Set the title, x and y labels\n",
    "plt.title(\"Confusion Matrix Random Forest\")\n",
    "plt.ylabel(\"Actual Labels\")\n",
    "plt.xlabel(\"Predicted Labels\")\n",
    "\n",
    "# Show the plot\n",
    "plt.show()"
   ]
  },
  {
   "cell_type": "code",
   "execution_count": 81,
   "id": "8ece68af",
   "metadata": {},
   "outputs": [],
   "source": [
    "start_time = time.time()\n",
    "rf.fit(x_train, y_train.values.ravel())\n",
    "end_time = time.time()"
   ]
  },
  {
   "cell_type": "code",
   "execution_count": 82,
   "id": "4822aa21",
   "metadata": {},
   "outputs": [
    {
     "name": "stdout",
     "output_type": "stream",
     "text": [
      "Training time:  1.130420207977295\n"
     ]
    }
   ],
   "source": [
    "print(\"Training time: \",end_time-start_time)"
   ]
  },
  {
   "cell_type": "code",
   "execution_count": 83,
   "id": "7485770d",
   "metadata": {},
   "outputs": [],
   "source": [
    "from sklearn.ensemble import AdaBoostClassifier"
   ]
  },
  {
   "cell_type": "code",
   "execution_count": 84,
   "id": "b93c18f1",
   "metadata": {},
   "outputs": [],
   "source": [
    "# Create adaboost classifer object\n",
    "abc = AdaBoostClassifier(n_estimators=50,\n",
    "                         learning_rate=1)\n",
    "# Train Adaboost Classifer\n",
    "model = abc.fit(x_train, y_train)\n",
    "\n",
    "#Predict the response for test dataset\n",
    "y_Apred = model.predict(x_test)"
   ]
  },
  {
   "cell_type": "code",
   "execution_count": 85,
   "id": "db0a2fec",
   "metadata": {},
   "outputs": [
    {
     "data": {
      "text/plain": [
       "0.9846257687115644"
      ]
     },
     "execution_count": 85,
     "metadata": {},
     "output_type": "execute_result"
    }
   ],
   "source": [
    "result_Ad=accuracy_score(y_Apred,y_test)\n",
    "result_Ad"
   ]
  },
  {
   "cell_type": "code",
   "execution_count": 86,
   "id": "94a4e749",
   "metadata": {},
   "outputs": [
    {
     "name": "stdout",
     "output_type": "stream",
     "text": [
      "              precision    recall  f1-score   support\n",
      "\n",
      "           0       0.99      0.99      0.99     21627\n",
      "           1       0.98      0.98      0.98     18375\n",
      "\n",
      "    accuracy                           0.98     40002\n",
      "   macro avg       0.98      0.98      0.98     40002\n",
      "weighted avg       0.98      0.98      0.98     40002\n",
      "\n"
     ]
    }
   ],
   "source": [
    "print(classification_report(y_test, y_Apred))"
   ]
  },
  {
   "cell_type": "code",
   "execution_count": 87,
   "id": "5c58b21f",
   "metadata": {},
   "outputs": [
    {
     "data": {
      "image/png": "[encoded data removed]",
      "text/plain": [
       "<Figure size 432x288 with 2 Axes>"
      ]
     },
     "metadata": {
      "needs_background": "light"
     },
     "output_type": "display_data"
    }
   ],
   "source": [
    "# Compute the confusion matrix\n",
    "cm = confusion_matrix(y_test, y_Apred)\n",
    "labels = [\"Benign\", \"Malicious\"]\n",
    "\n",
    "# Combine the classes into \"Malicious\"\n",
    "cm[1:, 1] = cm[1:, 1:].sum(axis=1)\n",
    "cm = cm[:2, :2]\n",
    "\n",
    "# Create a DataFrame from the confusion matrix and replace the labels\n",
    "df_cm = pd.DataFrame(cm, index=labels, columns=labels)\n",
    "\n",
    "# Plot the heatmap with annotated values\n",
    "sns.heatmap(df_cm, annot=True, cmap=\"YlGnBu\", fmt=\"g\")\n",
    "plt.tight_layout()\n",
    "\n",
    "# Set the title, x and y labels\n",
    "plt.title(\"Confusion Matrix AdaBoost\")\n",
    "plt.ylabel(\"Actual Labels\")\n",
    "plt.xlabel(\"Predicted Labels\")\n",
    "\n",
    "# Show the plot\n",
    "plt.show()"
   ]
  },
  {
   "cell_type": "code",
   "execution_count": 88,
   "id": "7c825730",
   "metadata": {},
   "outputs": [],
   "source": [
    "start_time = time.time()\n",
    "model.fit(x_train, y_train.values.ravel())\n",
    "end_time = time.time()"
   ]
  },
  {
   "cell_type": "code",
   "execution_count": 89,
   "id": "99891397",
   "metadata": {},
   "outputs": [
    {
     "name": "stdout",
     "output_type": "stream",
     "text": [
      "Training time:  3.9590981006622314\n"
     ]
    }
   ],
   "source": [
    "print(\"Training time: \",end_time-start_time)"
   ]
  },
  {
   "cell_type": "code",
   "execution_count": 90,
   "id": "48d45f6c",
   "metadata": {},
   "outputs": [],
   "source": [
    "from catboost import CatBoostClassifier"
   ]
  },
  {
   "cell_type": "code",
   "execution_count": 91,
   "id": "85722fba",
   "metadata": {},
   "outputs": [
    {
     "name": "stdout",
     "output_type": "stream",
     "text": [
      "0:\tlearn: 0.1801365\ttotal: 247ms\tremaining: 12.1s\n",
      "1:\tlearn: 0.0919880\ttotal: 293ms\tremaining: 7.03s\n",
      "2:\tlearn: 0.0592788\ttotal: 321ms\tremaining: 5.03s\n",
      "3:\tlearn: 0.0424243\ttotal: 339ms\tremaining: 3.9s\n",
      "4:\tlearn: 0.0360837\ttotal: 353ms\tremaining: 3.17s\n",
      "5:\tlearn: 0.0295381\ttotal: 368ms\tremaining: 2.69s\n",
      "6:\tlearn: 0.0266357\ttotal: 382ms\tremaining: 2.35s\n",
      "7:\tlearn: 0.0236476\ttotal: 399ms\tremaining: 2.09s\n",
      "8:\tlearn: 0.0225593\ttotal: 414ms\tremaining: 1.88s\n",
      "9:\tlearn: 0.0208628\ttotal: 429ms\tremaining: 1.71s\n",
      "10:\tlearn: 0.0193514\ttotal: 450ms\tremaining: 1.59s\n",
      "11:\tlearn: 0.0185685\ttotal: 466ms\tremaining: 1.47s\n",
      "12:\tlearn: 0.0178959\ttotal: 481ms\tremaining: 1.37s\n",
      "13:\tlearn: 0.0168798\ttotal: 496ms\tremaining: 1.28s\n",
      "14:\tlearn: 0.0163884\ttotal: 510ms\tremaining: 1.19s\n",
      "15:\tlearn: 0.0160011\ttotal: 524ms\tremaining: 1.11s\n",
      "16:\tlearn: 0.0152941\ttotal: 540ms\tremaining: 1.05s\n",
      "17:\tlearn: 0.0150222\ttotal: 556ms\tremaining: 989ms\n",
      "18:\tlearn: 0.0147686\ttotal: 572ms\tremaining: 933ms\n",
      "19:\tlearn: 0.0146068\ttotal: 588ms\tremaining: 882ms\n",
      "20:\tlearn: 0.0140877\ttotal: 604ms\tremaining: 835ms\n",
      "21:\tlearn: 0.0136214\ttotal: 619ms\tremaining: 788ms\n",
      "22:\tlearn: 0.0133512\ttotal: 636ms\tremaining: 747ms\n",
      "23:\tlearn: 0.0130199\ttotal: 656ms\tremaining: 711ms\n",
      "24:\tlearn: 0.0119678\ttotal: 704ms\tremaining: 704ms\n",
      "25:\tlearn: 0.0117609\ttotal: 719ms\tremaining: 663ms\n",
      "26:\tlearn: 0.0113192\ttotal: 737ms\tremaining: 628ms\n",
      "27:\tlearn: 0.0111737\ttotal: 751ms\tremaining: 590ms\n",
      "28:\tlearn: 0.0108623\ttotal: 768ms\tremaining: 556ms\n",
      "29:\tlearn: 0.0108283\ttotal: 783ms\tremaining: 522ms\n",
      "30:\tlearn: 0.0107880\ttotal: 797ms\tremaining: 488ms\n",
      "31:\tlearn: 0.0107170\ttotal: 812ms\tremaining: 457ms\n",
      "32:\tlearn: 0.0107025\ttotal: 826ms\tremaining: 426ms\n",
      "33:\tlearn: 0.0105509\ttotal: 842ms\tremaining: 396ms\n",
      "34:\tlearn: 0.0104832\ttotal: 863ms\tremaining: 370ms\n",
      "35:\tlearn: 0.0104428\ttotal: 884ms\tremaining: 344ms\n",
      "36:\tlearn: 0.0103326\ttotal: 903ms\tremaining: 317ms\n",
      "37:\tlearn: 0.0099692\ttotal: 920ms\tremaining: 291ms\n",
      "38:\tlearn: 0.0097541\ttotal: 935ms\tremaining: 264ms\n",
      "39:\tlearn: 0.0096045\ttotal: 951ms\tremaining: 238ms\n",
      "40:\tlearn: 0.0093803\ttotal: 967ms\tremaining: 212ms\n",
      "41:\tlearn: 0.0092243\ttotal: 983ms\tremaining: 187ms\n",
      "42:\tlearn: 0.0091764\ttotal: 997ms\tremaining: 162ms\n",
      "43:\tlearn: 0.0090438\ttotal: 1.01s\tremaining: 138ms\n",
      "44:\tlearn: 0.0088536\ttotal: 1.03s\tremaining: 115ms\n",
      "45:\tlearn: 0.0087705\ttotal: 1.05s\tremaining: 91.4ms\n",
      "46:\tlearn: 0.0086987\ttotal: 1.07s\tremaining: 68.3ms\n",
      "47:\tlearn: 0.0086507\ttotal: 1.09s\tremaining: 45.4ms\n",
      "48:\tlearn: 0.0086179\ttotal: 1.11s\tremaining: 22.6ms\n",
      "49:\tlearn: 0.0085484\ttotal: 1.12s\tremaining: 0us\n"
     ]
    }
   ],
   "source": [
    "# Create adaboost classifer object\n",
    "catc = CatBoostClassifier(n_estimators=50,\n",
    "                         learning_rate=1)\n",
    "# Train Adaboost Classifer\n",
    "modelc = catc.fit(x_train, y_train)\n",
    "\n",
    "#Predict the response for test dataset\n",
    "y_cpred = modelc.predict(x_test)"
   ]
  },
  {
   "cell_type": "code",
   "execution_count": 92,
   "id": "e45e05e0",
   "metadata": {},
   "outputs": [
    {
     "name": "stdout",
     "output_type": "stream",
     "text": [
      "              precision    recall  f1-score   support\n",
      "\n",
      "           0       1.00      1.00      1.00     21627\n",
      "           1       1.00      1.00      1.00     18375\n",
      "\n",
      "    accuracy                           1.00     40002\n",
      "   macro avg       1.00      1.00      1.00     40002\n",
      "weighted avg       1.00      1.00      1.00     40002\n",
      "\n"
     ]
    }
   ],
   "source": [
    "print(classification_report(y_test, y_cpred))"
   ]
  },
  {
   "cell_type": "code",
   "execution_count": 93,
   "id": "e991a7e6",
   "metadata": {},
   "outputs": [
    {
     "data": {
      "text/plain": [
       "0.9960501974901255"
      ]
     },
     "execution_count": 93,
     "metadata": {},
     "output_type": "execute_result"
    }
   ],
   "source": [
    "result_C=accuracy_score(y_cpred,y_test)\n",
    "result_C"
   ]
  },
  {
   "cell_type": "code",
   "execution_count": 94,
   "id": "3b08af15",
   "metadata": {},
   "outputs": [
    {
     "data": {
      "image/png": "[encoded data removed]",
      "text/plain": [
       "<Figure size 432x288 with 2 Axes>"
      ]
     },
     "metadata": {
      "needs_background": "light"
     },
     "output_type": "display_data"
    }
   ],
   "source": [
    "# Compute the confusion matrix\n",
    "cm = confusion_matrix(y_test, y_cpred)\n",
    "labels = [\"Benign\", \"Malicious\"]\n",
    "\n",
    "# Combine the classes into \"Malicious\"\n",
    "cm[1:, 1] = cm[1:, 1:].sum(axis=1)\n",
    "cm = cm[:2, :2]\n",
    "\n",
    "# Create a DataFrame from the confusion matrix and replace the labels\n",
    "df_cm = pd.DataFrame(cm, index=labels, columns=labels)\n",
    "\n",
    "# Plot the heatmap with annotated values\n",
    "sns.heatmap(df_cm, annot=True, cmap=\"YlGnBu\", fmt=\"g\")\n",
    "plt.tight_layout()\n",
    "\n",
    "# Set the title, x and y labels\n",
    "plt.title(\"Confusion Matrix CatBoost\")\n",
    "plt.ylabel(\"Actual Labels\")\n",
    "plt.xlabel(\"Predicted Labels\")\n",
    "\n",
    "# Show the plot\n",
    "plt.show()"
   ]
  },
  {
   "cell_type": "code",
   "execution_count": 95,
   "id": "9f8388f2",
   "metadata": {},
   "outputs": [
    {
     "name": "stdout",
     "output_type": "stream",
     "text": [
      "0:\tlearn: 0.1801365\ttotal: 23.6ms\tremaining: 1.16s\n",
      "1:\tlearn: 0.0919880\ttotal: 40.9ms\tremaining: 981ms\n",
      "2:\tlearn: 0.0592788\ttotal: 56ms\tremaining: 877ms\n",
      "3:\tlearn: 0.0424243\ttotal: 70.5ms\tremaining: 810ms\n",
      "4:\tlearn: 0.0360837\ttotal: 84ms\tremaining: 756ms\n",
      "5:\tlearn: 0.0295381\ttotal: 98.8ms\tremaining: 724ms\n",
      "6:\tlearn: 0.0266357\ttotal: 113ms\tremaining: 697ms\n",
      "7:\tlearn: 0.0236476\ttotal: 129ms\tremaining: 675ms\n",
      "8:\tlearn: 0.0225593\ttotal: 142ms\tremaining: 649ms\n",
      "9:\tlearn: 0.0208628\ttotal: 157ms\tremaining: 628ms\n",
      "10:\tlearn: 0.0193514\ttotal: 172ms\tremaining: 609ms\n",
      "11:\tlearn: 0.0185685\ttotal: 186ms\tremaining: 589ms\n",
      "12:\tlearn: 0.0178959\ttotal: 200ms\tremaining: 570ms\n",
      "13:\tlearn: 0.0168798\ttotal: 215ms\tremaining: 554ms\n",
      "14:\tlearn: 0.0163884\ttotal: 235ms\tremaining: 549ms\n",
      "15:\tlearn: 0.0160011\ttotal: 250ms\tremaining: 532ms\n",
      "16:\tlearn: 0.0152941\ttotal: 266ms\tremaining: 517ms\n",
      "17:\tlearn: 0.0150222\ttotal: 280ms\tremaining: 498ms\n",
      "18:\tlearn: 0.0147686\ttotal: 294ms\tremaining: 479ms\n",
      "19:\tlearn: 0.0146068\ttotal: 307ms\tremaining: 461ms\n",
      "20:\tlearn: 0.0140877\ttotal: 322ms\tremaining: 444ms\n",
      "21:\tlearn: 0.0136214\ttotal: 335ms\tremaining: 427ms\n",
      "22:\tlearn: 0.0133512\ttotal: 351ms\tremaining: 412ms\n",
      "23:\tlearn: 0.0130199\ttotal: 365ms\tremaining: 395ms\n",
      "24:\tlearn: 0.0119678\ttotal: 380ms\tremaining: 380ms\n",
      "25:\tlearn: 0.0117609\ttotal: 393ms\tremaining: 363ms\n",
      "26:\tlearn: 0.0113192\ttotal: 411ms\tremaining: 350ms\n",
      "27:\tlearn: 0.0111737\ttotal: 424ms\tremaining: 333ms\n",
      "28:\tlearn: 0.0108623\ttotal: 446ms\tremaining: 323ms\n",
      "29:\tlearn: 0.0108283\ttotal: 459ms\tremaining: 306ms\n",
      "30:\tlearn: 0.0107880\ttotal: 473ms\tremaining: 290ms\n",
      "31:\tlearn: 0.0107170\ttotal: 487ms\tremaining: 274ms\n",
      "32:\tlearn: 0.0107025\ttotal: 501ms\tremaining: 258ms\n",
      "33:\tlearn: 0.0105509\ttotal: 517ms\tremaining: 243ms\n",
      "34:\tlearn: 0.0104832\ttotal: 531ms\tremaining: 228ms\n",
      "35:\tlearn: 0.0104428\ttotal: 545ms\tremaining: 212ms\n",
      "36:\tlearn: 0.0103326\ttotal: 559ms\tremaining: 196ms\n",
      "37:\tlearn: 0.0099692\ttotal: 574ms\tremaining: 181ms\n",
      "38:\tlearn: 0.0097541\ttotal: 588ms\tremaining: 166ms\n",
      "39:\tlearn: 0.0096045\ttotal: 608ms\tremaining: 152ms\n",
      "40:\tlearn: 0.0093803\ttotal: 625ms\tremaining: 137ms\n",
      "41:\tlearn: 0.0092243\ttotal: 642ms\tremaining: 122ms\n",
      "42:\tlearn: 0.0091764\ttotal: 662ms\tremaining: 108ms\n",
      "43:\tlearn: 0.0090438\ttotal: 678ms\tremaining: 92.5ms\n",
      "44:\tlearn: 0.0088536\ttotal: 695ms\tremaining: 77.2ms\n",
      "45:\tlearn: 0.0087705\ttotal: 712ms\tremaining: 61.9ms\n",
      "46:\tlearn: 0.0086987\ttotal: 728ms\tremaining: 46.5ms\n",
      "47:\tlearn: 0.0086507\ttotal: 743ms\tremaining: 31ms\n",
      "48:\tlearn: 0.0086179\ttotal: 759ms\tremaining: 15.5ms\n",
      "49:\tlearn: 0.0085484\ttotal: 774ms\tremaining: 0us\n"
     ]
    }
   ],
   "source": [
    "start_time = time.time()\n",
    "modelc.fit(x_train, y_train.values.ravel())\n",
    "end_time = time.time()"
   ]
  },
  {
   "cell_type": "code",
   "execution_count": 96,
   "id": "c31d1d53",
   "metadata": {},
   "outputs": [
    {
     "name": "stdout",
     "output_type": "stream",
     "text": [
      "Training time:  0.905925989151001\n"
     ]
    }
   ],
   "source": [
    "print(\"Training time: \",end_time-start_time)"
   ]
  },
  {
   "cell_type": "code",
   "execution_count": 97,
   "id": "27f64bdd",
   "metadata": {},
   "outputs": [],
   "source": [
    "from sklearn.preprocessing import LabelEncoder"
   ]
  },
  {
   "cell_type": "code",
   "execution_count": 98,
   "id": "52c8fac0",
   "metadata": {},
   "outputs": [],
   "source": [
    "def le(df):\n",
    "    for col in df.columns:\n",
    "        if df[col].dtype == 'object':\n",
    "                label_encoder = LabelEncoder()\n",
    "                df[col] = label_encoder.fit_transform(df[col])\n",
    "\n",
    "le(df)"
   ]
  },
  {
   "cell_type": "code",
   "execution_count": 99,
   "id": "740deb0e",
   "metadata": {},
   "outputs": [
    {
     "data": {
      "text/html": [
       "<style>#sk-container-id-2 {color: black;background-color: white;}#sk-container-id-2 pre{padding: 0;}#sk-container-id-2 div.sk-toggleable {background-color: white;}#sk-container-id-2 label.sk-toggleable__label {cursor: pointer;display: block;width: 100%;margin-bottom: 0;padding: 0.3em;box-sizing: border-box;text-align: center;}#sk-container-id-2 label.sk-toggleable__label-arrow:before {content: \"▸\";float: left;margin-right: 0.25em;color: #696969;}#sk-container-id-2 label.sk-toggleable__label-arrow:hover:before {color: black;}#sk-container-id-2 div.sk-estimator:hover label.sk-toggleable__label-arrow:before {color: black;}#sk-container-id-2 div.sk-toggleable__content {max-height: 0;max-width: 0;overflow: hidden;text-align: left;background-color: #f0f8ff;}#sk-container-id-2 div.sk-toggleable__content pre {margin: 0.2em;color: black;border-radius: 0.25em;background-color: #f0f8ff;}#sk-container-id-2 input.sk-toggleable__control:checked~div.sk-toggleable__content {max-height: 200px;max-width: 100%;overflow: auto;}#sk-container-id-2 input.sk-toggleable__control:checked~label.sk-toggleable__label-arrow:before {content: \"▾\";}#sk-container-id-2 div.sk-estimator input.sk-toggleable__control:checked~label.sk-toggleable__label {background-color: #d4ebff;}#sk-container-id-2 div.sk-label input.sk-toggleable__control:checked~label.sk-toggleable__label {background-color: #d4ebff;}#sk-container-id-2 input.sk-hidden--visually {border: 0;clip: rect(1px 1px 1px 1px);clip: rect(1px, 1px, 1px, 1px);height: 1px;margin: -1px;overflow: hidden;padding: 0;position: absolute;width: 1px;}#sk-container-id-2 div.sk-estimator {font-family: monospace;background-color: #f0f8ff;border: 1px dotted black;border-radius: 0.25em;box-sizing: border-box;margin-bottom: 0.5em;}#sk-container-id-2 div.sk-estimator:hover {background-color: #d4ebff;}#sk-container-id-2 div.sk-parallel-item::after {content: \"\";width: 100%;border-bottom: 1px solid gray;flex-grow: 1;}#sk-container-id-2 div.sk-label:hover label.sk-toggleable__label {background-color: #d4ebff;}#sk-container-id-2 div.sk-serial::before {content: \"\";position: absolute;border-left: 1px solid gray;box-sizing: border-box;top: 0;bottom: 0;left: 50%;z-index: 0;}#sk-container-id-2 div.sk-serial {display: flex;flex-direction: column;align-items: center;background-color: white;padding-right: 0.2em;padding-left: 0.2em;position: relative;}#sk-container-id-2 div.sk-item {position: relative;z-index: 1;}#sk-container-id-2 div.sk-parallel {display: flex;align-items: stretch;justify-content: center;background-color: white;position: relative;}#sk-container-id-2 div.sk-item::before, #sk-container-id-2 div.sk-parallel-item::before {content: \"\";position: absolute;border-left: 1px solid gray;box-sizing: border-box;top: 0;bottom: 0;left: 50%;z-index: -1;}#sk-container-id-2 div.sk-parallel-item {display: flex;flex-direction: column;z-index: 1;position: relative;background-color: white;}#sk-container-id-2 div.sk-parallel-item:first-child::after {align-self: flex-end;width: 50%;}#sk-container-id-2 div.sk-parallel-item:last-child::after {align-self: flex-start;width: 50%;}#sk-container-id-2 div.sk-parallel-item:only-child::after {width: 0;}#sk-container-id-2 div.sk-dashed-wrapped {border: 1px dashed gray;margin: 0 0.4em 0.5em 0.4em;box-sizing: border-box;padding-bottom: 0.4em;background-color: white;}#sk-container-id-2 div.sk-label label {font-family: monospace;font-weight: bold;display: inline-block;line-height: 1.2em;}#sk-container-id-2 div.sk-label-container {text-align: center;}#sk-container-id-2 div.sk-container {/* jupyter's `normalize.less` sets `[hidden] { display: none; }` but bootstrap.min.css set `[hidden] { display: none !important; }` so we also need the `!important` here to be able to override the default hidden behavior on the sphinx rendered scikit-learn.org. See: https://github.com/scikit-learn/scikit-learn/issues/21755 */display: inline-block !important;position: relative;}#sk-container-id-2 div.sk-text-repr-fallback {display: none;}</style><div id=\"sk-container-id-2\" class=\"sk-top-container\"><div class=\"sk-text-repr-fallback\"><pre>XGBClassifier(base_score=0.5, booster=&#x27;gbtree&#x27;, callbacks=None,\n",
       "              colsample_bylevel=1, colsample_bynode=1, colsample_bytree=1,\n",
       "              early_stopping_rounds=None, enable_categorical=False,\n",
       "              eval_metric=None, gamma=0, gpu_id=-1, grow_policy=&#x27;depthwise&#x27;,\n",
       "              importance_type=None, interaction_constraints=&#x27;&#x27;,\n",
       "              learning_rate=1.0, max_bin=256, max_cat_to_onehot=4,\n",
       "              max_delta_step=0, max_depth=5, max_leaves=0, min_child_weight=1,\n",
       "              missing=nan, monotone_constraints=&#x27;()&#x27;, n_estimators=30, n_jobs=0,\n",
       "              num_parallel_tree=1, predictor=&#x27;auto&#x27;, random_state=0,\n",
       "              reg_alpha=0, reg_lambda=1, ...)</pre><b>In a Jupyter environment, please rerun this cell to show the HTML representation or trust the notebook. <br />On GitHub, the HTML representation is unable to render, please try loading this page with nbviewer.org.</b></div><div class=\"sk-container\" hidden><div class=\"sk-item\"><div class=\"sk-estimator sk-toggleable\"><input class=\"sk-toggleable__control sk-hidden--visually\" id=\"sk-estimator-id-2\" type=\"checkbox\" checked><label for=\"sk-estimator-id-2\" class=\"sk-toggleable__label sk-toggleable__label-arrow\">XGBClassifier</label><div class=\"sk-toggleable__content\"><pre>XGBClassifier(base_score=0.5, booster=&#x27;gbtree&#x27;, callbacks=None,\n",
       "              colsample_bylevel=1, colsample_bynode=1, colsample_bytree=1,\n",
       "              early_stopping_rounds=None, enable_categorical=False,\n",
       "              eval_metric=None, gamma=0, gpu_id=-1, grow_policy=&#x27;depthwise&#x27;,\n",
       "              importance_type=None, interaction_constraints=&#x27;&#x27;,\n",
       "              learning_rate=1.0, max_bin=256, max_cat_to_onehot=4,\n",
       "              max_delta_step=0, max_depth=5, max_leaves=0, min_child_weight=1,\n",
       "              missing=nan, monotone_constraints=&#x27;()&#x27;, n_estimators=30, n_jobs=0,\n",
       "              num_parallel_tree=1, predictor=&#x27;auto&#x27;, random_state=0,\n",
       "              reg_alpha=0, reg_lambda=1, ...)</pre></div></div></div></div></div>"
      ],
      "text/plain": [
       "XGBClassifier(base_score=0.5, booster='gbtree', callbacks=None,\n",
       "              colsample_bylevel=1, colsample_bynode=1, colsample_bytree=1,\n",
       "              early_stopping_rounds=None, enable_categorical=False,\n",
       "              eval_metric=None, gamma=0, gpu_id=-1, grow_policy='depthwise',\n",
       "              importance_type=None, interaction_constraints='',\n",
       "              learning_rate=1.0, max_bin=256, max_cat_to_onehot=4,\n",
       "              max_delta_step=0, max_depth=5, max_leaves=0, min_child_weight=1,\n",
       "              missing=nan, monotone_constraints='()', n_estimators=30, n_jobs=0,\n",
       "              num_parallel_tree=1, predictor='auto', random_state=0,\n",
       "              reg_alpha=0, reg_lambda=1, ...)"
      ]
     },
     "execution_count": 99,
     "metadata": {},
     "output_type": "execute_result"
    }
   ],
   "source": [
    "from xgboost import XGBClassifier\n",
    "xgbclassifier = XGBClassifier(max_depth=5, n_estimators =30, learning_rate =1.0)\n",
    "xgbclassifier.fit(x_train,y_train)"
   ]
  },
  {
   "cell_type": "code",
   "execution_count": 100,
   "id": "a54f863c",
   "metadata": {},
   "outputs": [],
   "source": [
    "y_Xpred=xgbclassifier.predict(x_test)"
   ]
  },
  {
   "cell_type": "code",
   "execution_count": 101,
   "id": "248ec7cf",
   "metadata": {},
   "outputs": [
    {
     "data": {
      "text/plain": [
       "0.9976251187440628"
      ]
     },
     "execution_count": 101,
     "metadata": {},
     "output_type": "execute_result"
    }
   ],
   "source": [
    "result_xg=accuracy_score(y_Xpred,y_test)\n",
    "result_xg"
   ]
  },
  {
   "cell_type": "code",
   "execution_count": 102,
   "id": "ff712bac",
   "metadata": {},
   "outputs": [
    {
     "name": "stdout",
     "output_type": "stream",
     "text": [
      "              precision    recall  f1-score   support\n",
      "\n",
      "           0       1.00      1.00      1.00     21627\n",
      "           1       1.00      1.00      1.00     18375\n",
      "\n",
      "    accuracy                           1.00     40002\n",
      "   macro avg       1.00      1.00      1.00     40002\n",
      "weighted avg       1.00      1.00      1.00     40002\n",
      "\n"
     ]
    }
   ],
   "source": [
    "print(classification_report(y_test, y_Xpred))"
   ]
  },
  {
   "cell_type": "code",
   "execution_count": 103,
   "id": "84a64c90",
   "metadata": {},
   "outputs": [
    {
     "data": {
      "image/png": "[encoded data removed]",
      "text/plain": [
       "<Figure size 432x288 with 2 Axes>"
      ]
     },
     "metadata": {
      "needs_background": "light"
     },
     "output_type": "display_data"
    }
   ],
   "source": [
    "# Compute the confusion matrix\n",
    "cm = confusion_matrix(y_test, y_Xpred)\n",
    "labels = [\"Benign\", \"Malicious\"]\n",
    "\n",
    "# Combine the classes into \"Malicious\"\n",
    "cm[1:, 1] = cm[1:, 1:].sum(axis=1)\n",
    "cm = cm[:2, :2]\n",
    "\n",
    "# Create a DataFrame from the confusion matrix and replace the labels\n",
    "df_cm = pd.DataFrame(cm, index=labels, columns=labels)\n",
    "\n",
    "# Plot the heatmap with annotated values\n",
    "sns.heatmap(df_cm, annot=True, cmap=\"YlGnBu\", fmt=\"g\")\n",
    "plt.tight_layout()\n",
    "\n",
    "# Set the title, x and y labels\n",
    "plt.title(\"Confusion Matrix XGBoost\")\n",
    "plt.ylabel(\"Actual Labels\")\n",
    "plt.xlabel(\"Predicted Labels\")\n",
    "\n",
    "# Show the plot\n",
    "plt.show()"
   ]
  },
  {
   "cell_type": "code",
   "execution_count": 104,
   "id": "140d73b3",
   "metadata": {},
   "outputs": [],
   "source": [
    "start_time = time.time()\n",
    "xgbclassifier.fit(x_train, y_train)\n",
    "end_time = time.time()"
   ]
  },
  {
   "cell_type": "code",
   "execution_count": 105,
   "id": "92288cfc",
   "metadata": {},
   "outputs": [
    {
     "name": "stdout",
     "output_type": "stream",
     "text": [
      "Training time:  1.2552342414855957\n"
     ]
    }
   ],
   "source": [
    "print(\"Training time: \",end_time-start_time)"
   ]
  },
  {
   "cell_type": "code",
   "execution_count": 106,
   "id": "5f97b820",
   "metadata": {},
   "outputs": [
    {
     "data": {
      "text/html": [
       "<div>\n",
       "<style scoped>\n",
       "    .dataframe tbody tr th:only-of-type {\n",
       "        vertical-align: middle;\n",
       "    }\n",
       "\n",
       "    .dataframe tbody tr th {\n",
       "        vertical-align: top;\n",
       "    }\n",
       "\n",
       "    .dataframe thead th {\n",
       "        text-align: right;\n",
       "    }\n",
       "</style>\n",
       "<table border=\"1\" class=\"dataframe\">\n",
       "  <thead>\n",
       "    <tr style=\"text-align: right;\">\n",
       "      <th></th>\n",
       "      <th>Model</th>\n",
       "      <th>accuracy</th>\n",
       "    </tr>\n",
       "  </thead>\n",
       "  <tbody>\n",
       "    <tr>\n",
       "      <th>0</th>\n",
       "      <td>Decision Tree</td>\n",
       "      <td>0.996525</td>\n",
       "    </tr>\n",
       "    <tr>\n",
       "      <th>1</th>\n",
       "      <td>RandomForest</td>\n",
       "      <td>0.996925</td>\n",
       "    </tr>\n",
       "    <tr>\n",
       "      <th>2</th>\n",
       "      <td>XGboost</td>\n",
       "      <td>0.997625</td>\n",
       "    </tr>\n",
       "    <tr>\n",
       "      <th>3</th>\n",
       "      <td>AdaBoost</td>\n",
       "      <td>0.984626</td>\n",
       "    </tr>\n",
       "    <tr>\n",
       "      <th>4</th>\n",
       "      <td>CatBoost</td>\n",
       "      <td>0.996050</td>\n",
       "    </tr>\n",
       "  </tbody>\n",
       "</table>\n",
       "</div>"
      ],
      "text/plain": [
       "           Model  accuracy\n",
       "0  Decision Tree  0.996525\n",
       "1   RandomForest  0.996925\n",
       "2        XGboost  0.997625\n",
       "3       AdaBoost  0.984626\n",
       "4       CatBoost  0.996050"
      ]
     },
     "execution_count": 106,
     "metadata": {},
     "output_type": "execute_result"
    }
   ],
   "source": [
    "first_model = {'Model': [ 'Decision Tree', 'RandomForest', 'XGboost', 'AdaBoost','CatBoost'],\n",
    "               'accuracy' : [ score_dc, result_Rf, result_xg, result_Ad,result_C]}\n",
    "\n",
    "result_df = pd.DataFrame(data = first_model)\n",
    "result_df"
   ]
  },
  {
   "cell_type": "code",
   "execution_count": null,
   "id": "4ff8d58f",
   "metadata": {},
   "outputs": [],
   "source": []
  }
 ],
 "metadata": {
  "kernelspec": {
   "display_name": "Python 3 (ipykernel)",
   "language": "python",
   "name": "python3"
  },
  "language_info": {
   "codemirror_mode": {
    "name": "ipython",
    "version": 3
   },
   "file_extension": ".py",
   "mimetype": "text/x-python",
   "name": "python",
   "nbconvert_exporter": "python",
   "pygments_lexer": "ipython3",
   "version": "3.9.12"
  }
 },
 "nbformat": 4,
 "nbformat_minor": 5
}
